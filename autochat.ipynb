{
 "cells": [
  {
   "cell_type": "code",
   "execution_count": 1,
   "metadata": {},
   "outputs": [],
   "source": [
    "from autochatgpt import autochat\n",
    "from autochatgpt import login"
   ]
  },
  {
   "cell_type": "code",
   "execution_count": 3,
   "metadata": {},
   "outputs": [],
   "source": [
    "driver = autochat.set_driver()\n",
    "driver.get(\"https://chat.openai.com/chat\")\n",
    "\n",
    "login.bypassing_cloudflare(driver)\n",
    "login.click_login_button(driver)\n",
    "login.login_openai(driver, email_address=\"your_email\", password=\"your_password\")\n",
    "login.skip_start_message(driver)"
   ]
  },
  {
   "cell_type": "code",
   "execution_count": 5,
   "metadata": {},
   "outputs": [],
   "source": [
    "autochat.send_prompt(driver, prompt=\"Hello, I am a bot. I am going to ask you some questions. Are you ready?\")"
   ]
  }
 ],
 "metadata": {
  "kernelspec": {
   "display_name": ".venv",
   "language": "python",
   "name": "python3"
  },
  "language_info": {
   "codemirror_mode": {
    "name": "ipython",
    "version": 3
   },
   "file_extension": ".py",
   "mimetype": "text/x-python",
   "name": "python",
   "nbconvert_exporter": "python",
   "pygments_lexer": "ipython3",
   "version": "3.10.9"
  },
  "orig_nbformat": 4
 },
 "nbformat": 4,
 "nbformat_minor": 2
}

{
 "cells": [
  {
   "cell_type": "code",
   "execution_count": 1,
   "metadata": {},
   "outputs": [],
   "source": [
    "from autochatgpt import autochat\n",
    "from autochatgpt import login"
   ]
  },
  {
   "cell_type": "code",
   "execution_count": 2,
   "metadata": {},
   "outputs": [],
   "source": [
    "driver = autochat.set_driver()\n",
    "driver.get(\"https://chat.openai.com/chat\")"
   ]
  },
  {
   "cell_type": "code",
   "execution_count": 3,
   "metadata": {},
   "outputs": [],
   "source": [
    "# login with openai account\n",
    "login.bypassing_cloudflare(driver)\n",
    "login.click_login_button(driver)\n",
    "\n",
    "# type your email and password\n",
    "login.login_openai(driver, email_address=\"your_email\", password=\"your_password\")\n",
    "# login.login_google_account(driver, email_address=\"your_email\", password=\"your_password\")\n",
    "\n",
    "login.skip_start_message(driver)"
   ]
  },
  {
   "cell_type": "code",
   "execution_count": 5,
   "metadata": {},
   "outputs": [],
   "source": [
    "autochat.set_gpt_model(driver, model=\"GPT-3.5-Legacy\") # GPT-3.5, GPT-3.5-Legacy, GPT-4\n",
    "autochat.send_prompt(driver, prompt=\"Hello, I am a bot. I am going to ask you some questions. Are you ready?\")"
   ]
  }
 ],
 "metadata": {
  "kernelspec": {
   "display_name": ".venv",
   "language": "python",
   "name": "python3"
  },
  "language_info": {
   "codemirror_mode": {
    "name": "ipython",
    "version": 3
   },
   "file_extension": ".py",
   "mimetype": "text/x-python",
   "name": "python",
   "nbconvert_exporter": "python",
   "pygments_lexer": "ipython3",
   "version": "3.10.9"
  },
  "orig_nbformat": 4
 },
 "nbformat": 4,
 "nbformat_minor": 2
}
